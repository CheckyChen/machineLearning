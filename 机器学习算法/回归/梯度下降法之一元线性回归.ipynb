{
 "cells": [
  {
   "cell_type": "code",
   "execution_count": 1,
   "metadata": {},
   "outputs": [],
   "source": [
    "import numpy as np\n",
    "import matplotlib.pyplot as plt"
   ]
  },
  {
   "cell_type": "code",
   "execution_count": 2,
   "metadata": {},
   "outputs": [
    {
     "data": {
      "image/png": "[encoded data removed]",
      "text/plain": [
       "<Figure size 432x288 with 1 Axes>"
      ]
     },
     "metadata": {
      "needs_background": "light"
     },
     "output_type": "display_data"
    }
   ],
   "source": [
    "# 载入数据\n",
    "data = np.genfromtxt(\"Salary_Data.csv\",delimiter=\",\")\n",
    "x_data = data[:,0] # 取所有行，只要第一列\n",
    "y_data = data[:,1];\n",
    "plt.scatter(x_data,y_data) \n",
    "plt.show()"
   ]
  },
  {
   "cell_type": "code",
   "execution_count": 5,
   "metadata": {},
   "outputs": [],
   "source": [
    "# 学习率learning rate\n",
    "lr = 0.001\n",
    "# 截距\n",
    "b = 0\n",
    "# 斜率\n",
    "k = 0\n",
    "# 最大迭代次数\n",
    "epochs = 10000\n",
    "\n",
    "# 最小二乘法\n",
    "def compute_error(b,k,x_data,y_data):\n",
    "    totalError = 0\n",
    "    for i in range(0,len(x_data)):\n",
    "        totalError += (y_data[i]-(k*x_data[i]+b))**2\n",
    "    return totalError / float(len(x_data))\n",
    "\n",
    "def gradient_descent_runner(x_data,y_data,b,k,lr,epochs):\n",
    "    '''\n",
    "    what is this function\n",
    "    '''\n",
    "    # 计算总数据量\n",
    "    m = float(len(x_data))\n",
    "    # 循环epochs次\n",
    "    for i in range(epochs):\n",
    "        b_grad = 0\n",
    "        k_grad = 0\n",
    "        # 计算梯度的总和再求平均\n",
    "        for j in range(0,len(x_data)):\n",
    "            b_grad += -(1/m)*(y_data[j] - (k*x_data[j]+b))\n",
    "            k_grad += -(1/m)*x_data[j] * (y_data[j] - ((k*x_data[j]) + b))\n",
    "        # 更新b和k\n",
    "        b = b - (lr*b_grad)\n",
    "        k = k - (lr*k_grad)\n",
    "        \n",
    "        # 没迭代5次 输出一次图像\n",
    "#         if i % 5 == 0:\n",
    "#             print(\"epochs:\",i)\n",
    "#             plt.plot(x_data,y_data,'b.')\n",
    "#             plt.plot(x_data,k*x_data+b,'r')\n",
    "#             plt.show()\n",
    "    return b,k  "
   ]
  },
  {
   "cell_type": "code",
   "execution_count": 4,
   "metadata": {},
   "outputs": [
    {
     "name": "stdout",
     "output_type": "stream",
     "text": [
      "Starting b=0,k=0,error=6502955270.733334\n",
      "running...\n",
      "After 10000 iterations b = 22914.688812206805,k=9876.972964280323,error=33060950.936274834\n"
     ]
    },
    {
     "data": {
      "image/png": "[encoded data removed]",
      "text/plain": [
       "<Figure size 432x288 with 1 Axes>"
      ]
     },
     "metadata": {
      "needs_background": "light"
     },
     "output_type": "display_data"
    }
   ],
   "source": [
    "print('Starting b={0},k={1},error={2}'.format(b,k,compute_error(b,k,x_data,y_data)))\n",
    "print(\"running...\")\n",
    "b,k = gradient_descent_runner(x_data,y_data,b,k,lr,epochs)\n",
    "print('After {0} iterations b = {1},k={2},error={3}'.format(epochs,b,k,compute_error(b,k,x_data,y_data)))\n",
    "\n",
    "# 画图\n",
    "plt.plot(x_data,y_data,'b.')\n",
    "plt.plot(x_data,k*x_data+b,'r')\n",
    "plt.show()"
   ]
  },
  {
   "cell_type": "code",
   "execution_count": null,
   "metadata": {},
   "outputs": [],
   "source": []
  }
 ],
 "metadata": {
  "kernelspec": {
   "display_name": "Python 3",
   "language": "python",
   "name": "python3"
  },
  "language_info": {
   "codemirror_mode": {
    "name": "ipython",
    "version": 3
   },
   "file_extension": ".py",
   "mimetype": "text/x-python",
   "name": "python",
   "nbconvert_exporter": "python",
   "pygments_lexer": "ipython3",
   "version": "3.7.1"
  }
 },
 "nbformat": 4,
 "nbformat_minor": 2
}
