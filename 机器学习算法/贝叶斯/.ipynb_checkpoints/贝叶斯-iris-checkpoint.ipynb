{
 "cells": [
  {
   "cell_type": "code",
   "execution_count": 2,
   "metadata": {},
   "outputs": [],
   "source": [
    "import numpy as np\n",
    "from sklearn import datasets\n",
    "from sklearn.model_selection import train_test_split\n",
    "from sklearn.metrics import classification_report,confusion_matrix\n",
    "# MultinomiaNB 多项式朴素贝叶斯，BernoulliNB 伯努利朴素贝叶斯，GaussianNB 高斯朴素贝叶斯 \n",
    "from sklearn.naive_bayes import MultinomialNB,BernoulliNB,GaussianNB"
   ]
  },
  {
   "cell_type": "code",
   "execution_count": 16,
   "metadata": {},
   "outputs": [
    {
     "name": "stdout",
     "output_type": "stream",
     "text": [
      "[[6.3 2.5 5.  1.9]\n",
      " [5.7 3.  4.2 1.2]\n",
      " [5.  3.5 1.3 0.3]\n",
      " [5.  3.  1.6 0.2]\n",
      " [5.1 3.8 1.9 0.4]\n",
      " [6.8 3.2 5.9 2.3]\n",
      " [6.3 3.3 6.  2.5]\n",
      " [5.8 4.  1.2 0.2]\n",
      " [6.3 2.8 5.1 1.5]\n",
      " [6.7 3.3 5.7 2.5]\n",
      " [5.9 3.2 4.8 1.8]\n",
      " [4.9 3.1 1.5 0.1]\n",
      " [6.6 3.  4.4 1.4]\n",
      " [5.6 2.7 4.2 1.3]\n",
      " [6.2 3.4 5.4 2.3]\n",
      " [6.7 3.1 4.4 1.4]\n",
      " [4.4 2.9 1.4 0.2]\n",
      " [5.7 2.9 4.2 1.3]\n",
      " [5.8 2.7 5.1 1.9]\n",
      " [5.1 3.8 1.5 0.3]\n",
      " [6.3 2.7 4.9 1.8]\n",
      " [6.8 2.8 4.8 1.4]\n",
      " [5.4 3.9 1.7 0.4]\n",
      " [6.1 3.  4.9 1.8]\n",
      " [5.2 3.4 1.4 0.2]\n",
      " [5.1 3.8 1.6 0.2]\n",
      " [4.4 3.2 1.3 0.2]\n",
      " [6.1 2.8 4.7 1.2]\n",
      " [6.3 3.4 5.6 2.4]\n",
      " [5.7 2.8 4.5 1.3]\n",
      " [5.  3.2 1.2 0.2]\n",
      " [5.1 3.7 1.5 0.4]\n",
      " [5.9 3.  5.1 1.8]\n",
      " [5.8 2.7 5.1 1.9]\n",
      " [6.3 2.3 4.4 1.3]\n",
      " [5.  3.6 1.4 0.2]\n",
      " [5.  3.3 1.4 0.2]\n",
      " [6.3 2.9 5.6 1.8]]\n",
      "[2 1 0 0 0 2 2 0 2 2 1 0 1 1 2 1 0 1 2 0 2 1 0 2 0 0 0 1 2 1 0 0 2 2 1 0 0\n",
      " 2]\n"
     ]
    }
   ],
   "source": [
    "iris = datasets.load_iris()\n",
    "x_train,x_test,y_train,y_test = train_test_split(iris.data,iris.target)\n",
    "# print(iris)\n",
    "# print((x_test))\n",
    "# print((y_test))"
   ]
  },
  {
   "cell_type": "code",
   "execution_count": 10,
   "metadata": {},
   "outputs": [
    {
     "data": {
      "text/plain": [
       "BernoulliNB(alpha=1.0, binarize=0.0, class_prior=None, fit_prior=True)"
      ]
     },
     "execution_count": 10,
     "metadata": {},
     "output_type": "execute_result"
    }
   ],
   "source": [
    "# 使用高斯朴素贝叶斯进行训练\n",
    "gaussian_nb = GaussianNB()\n",
    "gaussian_nb.fit(x_train,y_train)\n",
    "\n",
    "# 使用多项式朴树贝叶斯进行训练\n",
    "mul_nb = MultinomialNB()\n",
    "mul_nb.fit(x_train,y_train)\n",
    "\n",
    "# 使用伯努利朴素贝叶斯进行训练\n",
    "bern_nb = BernoulliNB()\n",
    "bern_nb.fit(x_train,y_train)"
   ]
  },
  {
   "cell_type": "code",
   "execution_count": 7,
   "metadata": {},
   "outputs": [
    {
     "name": "stdout",
     "output_type": "stream",
     "text": [
      "             precision    recall  f1-score   support\n",
      "\n",
      "          0       1.00      1.00      1.00         9\n",
      "          1       1.00      1.00      1.00        16\n",
      "          2       1.00      1.00      1.00        13\n",
      "\n",
      "avg / total       1.00      1.00      1.00        38\n",
      "\n"
     ]
    }
   ],
   "source": [
    "print(classification_report(gaussian_nb.predict(x_test),y_test))"
   ]
  },
  {
   "cell_type": "code",
   "execution_count": 9,
   "metadata": {},
   "outputs": [
    {
     "name": "stdout",
     "output_type": "stream",
     "text": [
      "             precision    recall  f1-score   support\n",
      "\n",
      "          0       1.00      1.00      1.00         9\n",
      "          1       0.62      1.00      0.77        10\n",
      "          2       1.00      0.68      0.81        19\n",
      "\n",
      "avg / total       0.90      0.84      0.85        38\n",
      "\n"
     ]
    }
   ],
   "source": [
    "print(classification_report(mul_nb.predict(x_test),y_test))"
   ]
  },
  {
   "cell_type": "code",
   "execution_count": 11,
   "metadata": {},
   "outputs": [
    {
     "name": "stdout",
     "output_type": "stream",
     "text": [
      "             precision    recall  f1-score   support\n",
      "\n",
      "          0       1.00      0.24      0.38        38\n",
      "          1       0.00      0.00      0.00         0\n",
      "          2       0.00      0.00      0.00         0\n",
      "\n",
      "avg / total       1.00      0.24      0.38        38\n",
      "\n"
     ]
    },
    {
     "name": "stderr",
     "output_type": "stream",
     "text": [
      "D:\\install\\anaconda\\lib\\site-packages\\sklearn\\metrics\\classification.py:1137: UndefinedMetricWarning: Recall and F-score are ill-defined and being set to 0.0 in labels with no true samples.\n",
      "  'recall', 'true', average, warn_for)\n"
     ]
    }
   ],
   "source": [
    "print(classification_report(bern_nb.predict(x_test),y_test))"
   ]
  },
  {
   "cell_type": "code",
   "execution_count": null,
   "metadata": {},
   "outputs": [],
   "source": []
  }
 ],
 "metadata": {
  "kernelspec": {
   "display_name": "Python 3",
   "language": "python",
   "name": "python3"
  },
  "language_info": {
   "codemirror_mode": {
    "name": "ipython",
    "version": 3
   },
   "file_extension": ".py",
   "mimetype": "text/x-python",
   "name": "python",
   "nbconvert_exporter": "python",
   "pygments_lexer": "ipython3",
   "version": "3.7.0"
  }
 },
 "nbformat": 4,
 "nbformat_minor": 2
}
